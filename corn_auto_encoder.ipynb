{
  "nbformat": 4,
  "nbformat_minor": 0,
  "metadata": {
    "colab": {
      "name": "corn_auto_encoder.ipynb",
      "provenance": [],
      "collapsed_sections": [],
      "authorship_tag": "ABX9TyNAPiVXvJu8wBXYfp/PJl8e",
      "include_colab_link": true
    },
    "kernelspec": {
      "name": "python3",
      "display_name": "Python 3"
    },
    "language_info": {
      "name": "python"
    }
  },
  "cells": [
    {
      "cell_type": "markdown",
      "metadata": {
        "id": "view-in-github",
        "colab_type": "text"
      },
      "source": [
        "<a href=\"https://colab.research.google.com/github/farnoosh-afshinrad/corn-disease-prediction/blob/main/corn_auto_encoder.ipynb\" target=\"_parent\"><img src=\"https://colab.research.google.com/assets/colab-badge.svg\" alt=\"Open In Colab\"/></a>"
      ]
    },
    {
      "cell_type": "markdown",
      "source": [
        "\n",
        "# Corn Disease Prediction Based on Autoencoders (AE)\n",
        "\n",
        "\n"
      ],
      "metadata": {
        "id": "3auj83WQgG7S"
      }
    },
    {
      "cell_type": "markdown",
      "source": [
        "In this project we will see how we can use Autoencoders in this case Convolutional AE as a classifier in multi-class classification task. you can find the dataset of the project [here](https://www.kaggle.com/smaranjitghose/corn-or-maize-leaf-disease-dataset). But I dicreased the size of all class due to RAM capacity issues in training process. In order to get more familiar with my mindset in this project , at the first place, I briefly explain what did I do. \n",
        "\n",
        "* mounting google drive on colab and visualizing some of the images we are going to work with\n",
        "* Finding out the mean of the dimentions and resizing all images accordingly.\n",
        "* Converting images into a numpy array and normalize them. Before, checking class imbalance\n",
        "* Splitting data and performing one-hot encoder\n",
        "* Constructed the convoltonal autoencoder model: going through modeling the data and forming the network\n",
        "* Then, defined a classifier AE based on the presented AE and re-train the model \n",
        "* Provided a classification report at the end of the codes\n"
      ],
      "metadata": {
        "id": "Y416x9kAf3Cm"
      }
    },
    {
      "cell_type": "code",
      "execution_count": null,
      "metadata": {
        "colab": {
          "base_uri": "https://localhost:8080/"
        },
        "id": "-ih2vAhyxxFx",
        "outputId": "37fb840f-6272-4a56-f785-a35b598cf420"
      },
      "outputs": [
        {
          "output_type": "stream",
          "name": "stdout",
          "text": [
            "Mounted at /content/drive\n"
          ]
        }
      ],
      "source": [
        "#mounting Google Drive on Colab\n",
        "from google.colab import drive\n",
        "drive.mount('/content/drive')"
      ]
    },
    {
      "cell_type": "code",
      "source": [
        "%cd \"/content/drive/My Drive/Colab_Notebooks/corn/data\""
      ],
      "metadata": {
        "colab": {
          "base_uri": "https://localhost:8080/"
        },
        "id": "HZMkzgheyFgK",
        "outputId": "490ace22-8a39-4dbd-9741-b0801998a71f"
      },
      "execution_count": null,
      "outputs": [
        {
          "output_type": "stream",
          "name": "stdout",
          "text": [
            "/content/drive/My Drive/Colab_Notebooks/corn/data\n"
          ]
        }
      ]
    },
    {
      "cell_type": "code",
      "source": [
        "import tensorflow as tf\n",
        "import numpy as np\n",
        "import pandas as pd\n",
        "import matplotlib.pyplot as plt\n",
        "from matplotlib.image import imread\n",
        "import cv2\n",
        "import random\n",
        "import os\n",
        "from os import listdir\n",
        "from PIL import Image\n",
        "from sklearn.preprocessing import label_binarize,  LabelBinarizer\n",
        "from keras.preprocessing import image\n",
        "from keras.preprocessing.image import img_to_array, array_to_img\n",
        "from tensorflow.keras.optimizers import Adam\n",
        "from keras.models import Sequential, Model\n",
        "from keras.layers import Conv2D, MaxPooling2D, Activation, Flatten, Dropout, Dense, Input, Reshape, UpSampling2D,Conv2DTranspose, merge\n",
        "from sklearn.model_selection import train_test_split\n",
        "%matplotlib inline"
      ],
      "metadata": {
        "id": "ZyPZg_oAyHzO"
      },
      "execution_count": null,
      "outputs": []
    },
    {
      "cell_type": "code",
      "source": [
        "tf.keras.layers.BatchNormalization(\n",
        "    axis=-1,\n",
        "    momentum=0.99,\n",
        "    epsilon=0.001,\n",
        "    center=True,\n",
        "    scale=True,\n",
        "    beta_initializer=\"zeros\",\n",
        "    gamma_initializer=\"ones\",\n",
        "    moving_mean_initializer=\"zeros\",\n",
        "    moving_variance_initializer=\"ones\",\n",
        "    beta_regularizer=None,\n",
        "    gamma_regularizer=None,\n",
        "    beta_constraint=None,\n",
        "    gamma_constraint=None,\n",
        ")"
      ],
      "metadata": {
        "colab": {
          "base_uri": "https://localhost:8080/"
        },
        "id": "ryiasnfRyRa0",
        "outputId": "ea02bde4-aad0-446c-f63d-2b929051d2b3"
      },
      "execution_count": null,
      "outputs": [
        {
          "output_type": "execute_result",
          "data": {
            "text/plain": [
              "<keras.layers.normalization.batch_normalization.BatchNormalization at 0x7f9cf8bf7a10>"
            ]
          },
          "metadata": {},
          "execution_count": 5
        }
      ]
    },
    {
      "cell_type": "code",
      "source": [
        "#just to make sure how many and what types of classes we have\n",
        "path = \"/content/drive/My Drive/Colab_Notebooks/corn/data/\"\n",
        "os.listdir(path)"
      ],
      "metadata": {
        "colab": {
          "base_uri": "https://localhost:8080/"
        },
        "id": "ELY4w45wyUlG",
        "outputId": "714d0c78-23b1-440a-a244-25ec5c1d5d49"
      },
      "execution_count": null,
      "outputs": [
        {
          "output_type": "execute_result",
          "data": {
            "text/plain": [
              "['Blight', 'Common_Rust', 'Gray_Leaf_Spot', 'Healthy']"
            ]
          },
          "metadata": {},
          "execution_count": 6
        }
      ]
    },
    {
      "cell_type": "code",
      "source": [
        "#Converting Images to array \n",
        "def convert_image_to_array(image_dir):\n",
        "    try:\n",
        "        image = cv2.imread(image_dir)\n",
        "        if image is not None :\n",
        "            image = cv2.resize(image, (128,128))  \n",
        "            return img_to_array(image)\n",
        "        else :\n",
        "            return np.array([])\n",
        "    except Exception as e:\n",
        "        print(f\"Error : {e}\")\n",
        "        return None"
      ],
      "metadata": {
        "id": "oSKn0dTmyXfj"
      },
      "execution_count": null,
      "outputs": []
    },
    {
      "cell_type": "code",
      "source": [
        "dir = '/content/drive/My Drive/Colab_Notebooks/corn/data'\n",
        "root_dir = listdir(dir)\n",
        "image_list, label_list = [], []\n",
        "all_labels = ['Common_Rust ', 'Healthy', 'Blight', 'Gray_Leaf_Spot']\n",
        "binary_labels = [0,1,2,3]\n",
        "temp = -1\n",
        "\n",
        "# Reading and converting image to numpy array\n",
        "for directory in root_dir:\n",
        "  corn_image_list = listdir(f\"{dir}/{directory}\")\n",
        "  temp += 1\n",
        "  for files in corn_image_list:\n",
        "    image_path = f\"{dir}/{directory}/{files}\"\n",
        "    image_list.append(convert_image_to_array(image_path))\n",
        "    label_list.append(directory)"
      ],
      "metadata": {
        "id": "HV1bGjA3ybDR"
      },
      "execution_count": null,
      "outputs": []
    },
    {
      "cell_type": "code",
      "source": [
        "# Visualize the number of classes count\n",
        "label_counts = pd.DataFrame(label_list).value_counts()\n",
        "label_counts.head()"
      ],
      "metadata": {
        "colab": {
          "base_uri": "https://localhost:8080/"
        },
        "id": "L6OZ63NXydn8",
        "outputId": "02d2da25-3f20-42f1-ca40-b4c2f2fbf70d"
      },
      "execution_count": null,
      "outputs": [
        {
          "output_type": "execute_result",
          "data": {
            "text/plain": [
              "Common_Rust       310\n",
              "Healthy           301\n",
              "Blight            301\n",
              "Gray_Leaf_Spot    176\n",
              "dtype: int64"
            ]
          },
          "metadata": {},
          "execution_count": 9
        }
      ]
    },
    {
      "cell_type": "code",
      "source": [
        "image_list[0].shape"
      ],
      "metadata": {
        "colab": {
          "base_uri": "https://localhost:8080/"
        },
        "id": "E4iBA4uaym6b",
        "outputId": "74e11abe-2909-43cd-c8fd-5ccda5a3ad24"
      },
      "execution_count": null,
      "outputs": [
        {
          "output_type": "execute_result",
          "data": {
            "text/plain": [
              "(128, 128, 3)"
            ]
          },
          "metadata": {},
          "execution_count": 10
        }
      ]
    },
    {
      "cell_type": "code",
      "source": [
        "label_list = np.array(label_list)\n",
        "label_list.shape"
      ],
      "metadata": {
        "colab": {
          "base_uri": "https://localhost:8080/"
        },
        "id": "ql9OXY5LyqkK",
        "outputId": "13c60ef6-f22f-457e-dfba-98bec4fd46cf"
      },
      "execution_count": null,
      "outputs": [
        {
          "output_type": "execute_result",
          "data": {
            "text/plain": [
              "(1088,)"
            ]
          },
          "metadata": {},
          "execution_count": 11
        }
      ]
    },
    {
      "cell_type": "code",
      "source": [
        "# Storing number of classes\n",
        "num_classes = len(label_counts)\n",
        "num_classes"
      ],
      "metadata": {
        "colab": {
          "base_uri": "https://localhost:8080/"
        },
        "id": "RzgZ6f1Mysxh",
        "outputId": "7bceae56-cc0a-442f-d5ba-bf7f5fb14f6a"
      },
      "execution_count": null,
      "outputs": [
        {
          "output_type": "execute_result",
          "data": {
            "text/plain": [
              "4"
            ]
          },
          "metadata": {},
          "execution_count": 12
        }
      ]
    },
    {
      "cell_type": "code",
      "source": [
        "# Splitting dataset\n",
        "x_train, x_test, y_train, y_test = train_test_split(image_list, label_list , test_size=0.2, random_state = 42) "
      ],
      "metadata": {
        "id": "y4yXFB40yu6M"
      },
      "execution_count": null,
      "outputs": []
    },
    {
      "cell_type": "code",
      "source": [
        "# Label binarizing\n",
        "lb = LabelBinarizer()\n",
        "y_train = lb.fit_transform(y_train)\n",
        "y_test = lb.fit_transform(y_test)\n",
        "print(lb.classes_)"
      ],
      "metadata": {
        "colab": {
          "base_uri": "https://localhost:8080/"
        },
        "id": "63tBUtcsIq8F",
        "outputId": "01697c8f-923b-4f92-9803-1122d501aad9"
      },
      "execution_count": null,
      "outputs": [
        {
          "output_type": "stream",
          "name": "stdout",
          "text": [
            "['Blight' 'Common_Rust' 'Gray_Leaf_Spot' 'Healthy']\n"
          ]
        }
      ]
    },
    {
      "cell_type": "code",
      "source": [
        "# Normalize and reshape data\n",
        "x_train = np.array(x_train, dtype=np.float16) / 255.0\n",
        "x_test = np.array(x_test, dtype=np.float16) / 255.0\n",
        "x_train = x_train.reshape( -1, 128,128,3)\n",
        "x_test = x_test.reshape( -1, 128,128,3)"
      ],
      "metadata": {
        "id": "AubDdWfrzHsd"
      },
      "execution_count": null,
      "outputs": []
    },
    {
      "cell_type": "code",
      "source": [
        "x_train.shape"
      ],
      "metadata": {
        "colab": {
          "base_uri": "https://localhost:8080/"
        },
        "id": "m8KTthCoSNB7",
        "outputId": "ecb52ed0-d89a-4096-db2b-cf6521bcaec2"
      },
      "execution_count": null,
      "outputs": [
        {
          "output_type": "execute_result",
          "data": {
            "text/plain": [
              "(870, 128, 128, 3)"
            ]
          },
          "metadata": {},
          "execution_count": 17
        }
      ]
    },
    {
      "cell_type": "code",
      "source": [
        "# Splitting the training data set into training and validation data sets\n",
        "x_train, x_val, y_train, y_val = train_test_split(x_train, y_train, test_size = 0.2,  random_state = 42)"
      ],
      "metadata": {
        "id": "s2pNl1osEEsa"
      },
      "execution_count": null,
      "outputs": []
    },
    {
      "cell_type": "code",
      "source": [
        "batch_size = 64\n",
        "epochs = 32\n",
        "inChannel = 3\n",
        "x, y = 128, 128\n",
        "input_img = Input(shape = ( x, y, inChannel))"
      ],
      "metadata": {
        "id": "J4fpYo0D41l9"
      },
      "execution_count": null,
      "outputs": []
    },
    {
      "cell_type": "code",
      "source": [
        "def encoder(input_img):\n",
        "    #encoder\n",
        "    #input = 128 x 128 x 3 (wide and thin)\n",
        "    conv1 = Conv2D(32, (3, 3), activation='relu', padding='same')(input_img) \n",
        "    conv1 = tf.keras.layers.BatchNormalization()(conv1)\n",
        "    conv1 = Conv2D(32, (3, 3), activation='relu', padding='same')(conv1)\n",
        "    conv1 = tf.keras.layers.BatchNormalization()(conv1)\n",
        "    pool1 = MaxPooling2D(pool_size=(2, 2))(conv1) \n",
        "    conv2 = Conv2D(64, (3, 3), activation='relu', padding='same')(pool1) \n",
        "    conv2 = tf.keras.layers.BatchNormalization()(conv2)\n",
        "    conv2 = Conv2D(64, (3, 3), activation='relu', padding='same')(conv2)\n",
        "    conv2 = tf.keras.layers.BatchNormalization()(conv2)\n",
        "    pool2 = MaxPooling2D(pool_size=(2, 2))(conv2) \n",
        "    conv3 = Conv2D(128, (3, 3), activation='relu', padding='same')(pool2) \n",
        "    conv3 = tf.keras.layers.BatchNormalization()(conv3)\n",
        "    conv3 = Conv2D(128, (3, 3), activation='relu', padding='same')(conv3)\n",
        "    conv3 = tf.keras.layers.BatchNormalization()(conv3)\n",
        "    conv4 = Conv2D(256, (3, 3), activation='relu', padding='same')(conv3)\n",
        "    conv4 = tf.keras.layers.BatchNormalization()(conv4) \n",
        "    conv4 = Conv2D(256, (3, 3), activation='relu', padding='same')(conv4)\n",
        "    conv4 = tf.keras.layers.BatchNormalization()(conv4) \n",
        "    return conv4\n",
        "\n",
        "def decoder(conv4):    \n",
        "    #decoder\n",
        "    conv5 = Conv2D(128, (3, 3), activation='relu', padding='same')(conv4) \n",
        "    conv5 = tf.keras.layers.BatchNormalization()(conv5)\n",
        "    conv5 = Conv2D(128, (3, 3), activation='relu', padding='same')(conv5)\n",
        "    conv5 = tf.keras.layers.BatchNormalization()(conv5)\n",
        "    conv6 = Conv2D(64, (3, 3), activation='relu', padding='same')(conv5)\n",
        "    conv6 = tf.keras.layers.BatchNormalization()(conv6) \n",
        "    conv6 = Conv2D(64, (3, 3), activation='relu', padding='same')(conv6)\n",
        "    conv6 = tf.keras.layers.BatchNormalization()(conv6)\n",
        "    up1 = UpSampling2D((2,2))(conv6) \n",
        "    conv7 = Conv2D(32, (3, 3), activation='relu', padding='same')(up1)\n",
        "    conv7 = tf.keras.layers.BatchNormalization()(conv7) \n",
        "    conv7 = Conv2D(32, (3, 3), activation='relu', padding='same')(conv7)\n",
        "    conv7 = tf.keras.layers.BatchNormalization()(conv7)\n",
        "    up2 = UpSampling2D((2,2))(conv7) \n",
        "    decoded = Conv2D(3, (3, 3), activation='sigmoid', padding='same')(up2) \n",
        "    return decoded"
      ],
      "metadata": {
        "id": "-suJqucezp7X"
      },
      "execution_count": null,
      "outputs": []
    },
    {
      "cell_type": "code",
      "source": [
        "def encoder(input_img):\n",
        "    #encoder\n",
        "    #input = 128 x 128 x 3 (wide and thin)\n",
        "    conv1 = Conv2D(32, (3, 3), activation='relu', padding='same')(input_img) \n",
        "    conv1 = tf.keras.layers.BatchNormalization()(conv1)\n",
        "    conv1 = Conv2D(32, (3, 3), activation='relu', padding='same')(conv1)\n",
        "    conv1 = tf.keras.layers.BatchNormalization()(conv1)\n",
        "    pool1 = MaxPooling2D(pool_size=(2, 2))(conv1) \n",
        "    conv2 = Conv2D(64, (3, 3), activation='relu', padding='same')(pool1) \n",
        "    conv2 = tf.keras.layers.BatchNormalization()(conv2)\n",
        "    conv2 = Conv2D(64, (3, 3), activation='relu', padding='same')(conv2)\n",
        "    conv2 = tf.keras.layers.BatchNormalization()(conv2)\n",
        "    pool2 = MaxPooling2D(pool_size=(2, 2))(conv2) \n",
        "    conv3 = Conv2D(128, (3, 3), activation='relu', padding='same')(pool2) \n",
        "    conv3 = tf.keras.layers.BatchNormalization()(conv3)\n",
        "    conv3 = Conv2D(128, (3, 3), activation='relu', padding='same')(conv3)\n",
        "    conv3 = tf.keras.layers.BatchNormalization()(conv3)\n",
        "    conv4 = Conv2D(256, (3, 3), activation='relu', padding='same')(conv3) \n",
        "    conv4 = tf.keras.layers.BatchNormalization()(conv4)\n",
        "    conv4 = Conv2D(256, (3, 3), activation='relu', padding='same')(conv4)\n",
        "    conv4 = tf.keras.layers.BatchNormalization()(conv4)\n",
        "    return conv4"
      ],
      "metadata": {
        "id": "pO6pi5FxNx8k"
      },
      "execution_count": null,
      "outputs": []
    },
    {
      "cell_type": "code",
      "source": [
        "def fc(enco):\n",
        "    flat = Flatten()(enco)\n",
        "    den = Dense(128, activation='relu')(flat)\n",
        "    out = Dense(num_classes, activation='softmax')(den)\n",
        "    return out"
      ],
      "metadata": {
        "id": "eZ1QDYgXN3nB"
      },
      "execution_count": null,
      "outputs": []
    },
    {
      "cell_type": "code",
      "source": [
        "encode = encoder(input_img)\n",
        "full_model = Model(input_img,fc(encode))"
      ],
      "metadata": {
        "id": "MMC3jp2FN4A-"
      },
      "execution_count": null,
      "outputs": []
    },
    {
      "cell_type": "code",
      "source": [
        "full_model.summary()"
      ],
      "metadata": {
        "colab": {
          "base_uri": "https://localhost:8080/"
        },
        "id": "oHMNiduGN-ke",
        "outputId": "f7f01fb4-5b33-479a-933c-e6e2a27bb803"
      },
      "execution_count": null,
      "outputs": [
        {
          "output_type": "stream",
          "name": "stdout",
          "text": [
            "Model: \"model\"\n",
            "_________________________________________________________________\n",
            " Layer (type)                Output Shape              Param #   \n",
            "=================================================================\n",
            " input_1 (InputLayer)        [(None, 128, 128, 3)]     0         \n",
            "                                                                 \n",
            " conv2d (Conv2D)             (None, 128, 128, 32)      896       \n",
            "                                                                 \n",
            " batch_normalization_1 (Batc  (None, 128, 128, 32)     128       \n",
            " hNormalization)                                                 \n",
            "                                                                 \n",
            " conv2d_1 (Conv2D)           (None, 128, 128, 32)      9248      \n",
            "                                                                 \n",
            " batch_normalization_2 (Batc  (None, 128, 128, 32)     128       \n",
            " hNormalization)                                                 \n",
            "                                                                 \n",
            " max_pooling2d (MaxPooling2D  (None, 64, 64, 32)       0         \n",
            " )                                                               \n",
            "                                                                 \n",
            " conv2d_2 (Conv2D)           (None, 64, 64, 64)        18496     \n",
            "                                                                 \n",
            " batch_normalization_3 (Batc  (None, 64, 64, 64)       256       \n",
            " hNormalization)                                                 \n",
            "                                                                 \n",
            " conv2d_3 (Conv2D)           (None, 64, 64, 64)        36928     \n",
            "                                                                 \n",
            " batch_normalization_4 (Batc  (None, 64, 64, 64)       256       \n",
            " hNormalization)                                                 \n",
            "                                                                 \n",
            " max_pooling2d_1 (MaxPooling  (None, 32, 32, 64)       0         \n",
            " 2D)                                                             \n",
            "                                                                 \n",
            " conv2d_4 (Conv2D)           (None, 32, 32, 128)       73856     \n",
            "                                                                 \n",
            " batch_normalization_5 (Batc  (None, 32, 32, 128)      512       \n",
            " hNormalization)                                                 \n",
            "                                                                 \n",
            " conv2d_5 (Conv2D)           (None, 32, 32, 128)       147584    \n",
            "                                                                 \n",
            " batch_normalization_6 (Batc  (None, 32, 32, 128)      512       \n",
            " hNormalization)                                                 \n",
            "                                                                 \n",
            " conv2d_6 (Conv2D)           (None, 32, 32, 256)       295168    \n",
            "                                                                 \n",
            " batch_normalization_7 (Batc  (None, 32, 32, 256)      1024      \n",
            " hNormalization)                                                 \n",
            "                                                                 \n",
            " conv2d_7 (Conv2D)           (None, 32, 32, 256)       590080    \n",
            "                                                                 \n",
            " batch_normalization_8 (Batc  (None, 32, 32, 256)      1024      \n",
            " hNormalization)                                                 \n",
            "                                                                 \n",
            " flatten (Flatten)           (None, 262144)            0         \n",
            "                                                                 \n",
            " dense (Dense)               (None, 128)               33554560  \n",
            "                                                                 \n",
            " dense_1 (Dense)             (None, 4)                 516       \n",
            "                                                                 \n",
            "=================================================================\n",
            "Total params: 34,731,172\n",
            "Trainable params: 34,729,252\n",
            "Non-trainable params: 1,920\n",
            "_________________________________________________________________\n"
          ]
        }
      ]
    },
    {
      "cell_type": "code",
      "source": [
        "full_model.compile(loss='categorical_crossentropy', optimizer='Adam',metrics=['accuracy'])"
      ],
      "metadata": {
        "id": "BxndzhVN5Hzm"
      },
      "execution_count": null,
      "outputs": []
    },
    {
      "cell_type": "code",
      "source": [
        "classify_train = full_model.fit(x_train, y_train, batch_size = batch_size, epochs = epochs, validation_data = (x_val, y_val))"
      ],
      "metadata": {
        "colab": {
          "base_uri": "https://localhost:8080/"
        },
        "id": "ioS82MDh5ZL6",
        "outputId": "949be26f-609d-47b6-b576-9c8bd817b5d1"
      },
      "execution_count": null,
      "outputs": [
        {
          "output_type": "stream",
          "name": "stdout",
          "text": [
            "Epoch 1/32\n",
            "11/11 [==============================] - 201s 18s/step - loss: 20.8664 - accuracy: 0.5876 - val_loss: 20.6665 - val_accuracy: 0.3218\n",
            "Epoch 2/32\n",
            "11/11 [==============================] - 190s 17s/step - loss: 5.4426 - accuracy: 0.6422 - val_loss: 29.0481 - val_accuracy: 0.3391\n",
            "Epoch 3/32\n",
            "11/11 [==============================] - 192s 18s/step - loss: 5.6145 - accuracy: 0.7112 - val_loss: 36.3678 - val_accuracy: 0.4770\n",
            "Epoch 4/32\n",
            "11/11 [==============================] - 195s 18s/step - loss: 3.2899 - accuracy: 0.7069 - val_loss: 58.1802 - val_accuracy: 0.3391\n",
            "Epoch 5/32\n",
            "11/11 [==============================] - 191s 17s/step - loss: 1.0800 - accuracy: 0.7241 - val_loss: 8.1486 - val_accuracy: 0.3908\n",
            "Epoch 6/32\n",
            "11/11 [==============================] - 190s 17s/step - loss: 1.0220 - accuracy: 0.7328 - val_loss: 6.6834 - val_accuracy: 0.4483\n",
            "Epoch 7/32\n",
            "11/11 [==============================] - 194s 18s/step - loss: 0.7617 - accuracy: 0.7500 - val_loss: 5.6613 - val_accuracy: 0.2931\n",
            "Epoch 8/32\n",
            "11/11 [==============================] - 192s 18s/step - loss: 0.6137 - accuracy: 0.7644 - val_loss: 10.1388 - val_accuracy: 0.1724\n",
            "Epoch 9/32\n",
            "11/11 [==============================] - 190s 17s/step - loss: 0.6358 - accuracy: 0.7586 - val_loss: 7.4319 - val_accuracy: 0.2011\n",
            "Epoch 10/32\n",
            "11/11 [==============================] - 190s 17s/step - loss: 0.5191 - accuracy: 0.7716 - val_loss: 4.3911 - val_accuracy: 0.1609\n",
            "Epoch 11/32\n",
            "11/11 [==============================] - 188s 17s/step - loss: 0.4781 - accuracy: 0.8032 - val_loss: 5.0639 - val_accuracy: 0.2011\n",
            "Epoch 12/32\n",
            "11/11 [==============================] - 190s 17s/step - loss: 0.4420 - accuracy: 0.8032 - val_loss: 4.6794 - val_accuracy: 0.3161\n",
            "Epoch 13/32\n",
            "11/11 [==============================] - 182s 17s/step - loss: 0.4251 - accuracy: 0.8218 - val_loss: 6.4619 - val_accuracy: 0.2586\n",
            "Epoch 14/32\n",
            "11/11 [==============================] - 169s 15s/step - loss: 0.3819 - accuracy: 0.8060 - val_loss: 8.3272 - val_accuracy: 0.2586\n",
            "Epoch 15/32\n",
            "11/11 [==============================] - 169s 15s/step - loss: 0.6789 - accuracy: 0.8233 - val_loss: 7.1977 - val_accuracy: 0.2931\n",
            "Epoch 16/32\n",
            "11/11 [==============================] - 169s 15s/step - loss: 0.6188 - accuracy: 0.8118 - val_loss: 11.7368 - val_accuracy: 0.4080\n",
            "Epoch 17/32\n",
            "11/11 [==============================] - 169s 15s/step - loss: 0.4187 - accuracy: 0.8132 - val_loss: 13.0610 - val_accuracy: 0.3563\n",
            "Epoch 18/32\n",
            "11/11 [==============================] - 169s 15s/step - loss: 0.3891 - accuracy: 0.8103 - val_loss: 17.2123 - val_accuracy: 0.3046\n",
            "Epoch 19/32\n",
            "11/11 [==============================] - 169s 15s/step - loss: 0.3743 - accuracy: 0.8247 - val_loss: 3.4936 - val_accuracy: 0.4770\n",
            "Epoch 20/32\n",
            "11/11 [==============================] - 170s 15s/step - loss: 0.4101 - accuracy: 0.8592 - val_loss: 13.3852 - val_accuracy: 0.3506\n",
            "Epoch 21/32\n",
            "11/11 [==============================] - 171s 16s/step - loss: 0.4685 - accuracy: 0.8549 - val_loss: 53.5880 - val_accuracy: 0.3218\n",
            "Epoch 22/32\n",
            "11/11 [==============================] - 169s 15s/step - loss: 0.4601 - accuracy: 0.8693 - val_loss: 13.3637 - val_accuracy: 0.3563\n",
            "Epoch 23/32\n",
            "11/11 [==============================] - 170s 16s/step - loss: 1.5232 - accuracy: 0.8664 - val_loss: 58.5249 - val_accuracy: 0.3218\n",
            "Epoch 24/32\n",
            "11/11 [==============================] - 169s 15s/step - loss: 1.5348 - accuracy: 0.7945 - val_loss: 154.0623 - val_accuracy: 0.3966\n",
            "Epoch 25/32\n",
            "11/11 [==============================] - 170s 15s/step - loss: 2.1013 - accuracy: 0.8017 - val_loss: 356.1457 - val_accuracy: 0.3506\n",
            "Epoch 26/32\n",
            "11/11 [==============================] - 169s 15s/step - loss: 1.0253 - accuracy: 0.8132 - val_loss: 57.1991 - val_accuracy: 0.4023\n",
            "Epoch 27/32\n",
            "11/11 [==============================] - 170s 16s/step - loss: 0.9374 - accuracy: 0.7787 - val_loss: 54.6104 - val_accuracy: 0.3506\n",
            "Epoch 28/32\n",
            "11/11 [==============================] - 171s 16s/step - loss: 0.5595 - accuracy: 0.7816 - val_loss: 94.8854 - val_accuracy: 0.3736\n",
            "Epoch 29/32\n",
            "11/11 [==============================] - 172s 16s/step - loss: 0.4953 - accuracy: 0.8132 - val_loss: 103.2053 - val_accuracy: 0.3333\n",
            "Epoch 30/32\n",
            "11/11 [==============================] - 181s 17s/step - loss: 0.3659 - accuracy: 0.8247 - val_loss: 76.1609 - val_accuracy: 0.3333\n",
            "Epoch 31/32\n",
            "11/11 [==============================] - 178s 16s/step - loss: 0.3302 - accuracy: 0.8491 - val_loss: 57.0964 - val_accuracy: 0.3391\n",
            "Epoch 32/32\n",
            "11/11 [==============================] - 176s 16s/step - loss: 0.3145 - accuracy: 0.8578 - val_loss: 41.6913 - val_accuracy: 0.3506\n"
          ]
        }
      ]
    },
    {
      "cell_type": "code",
      "source": [
        "# Saving model\n",
        "full_model.save(\"/content/drive/My Drive/Colab_Notebooks/corn/corn_disease.h5\")"
      ],
      "metadata": {
        "id": "0vHOxnKMM5Up"
      },
      "execution_count": null,
      "outputs": []
    },
    {
      "cell_type": "code",
      "source": [
        "#Plot the training history\n",
        "plt.figure(figsize=(12, 5))\n",
        "plt.plot(classify_train.history['accuracy'], color='r')\n",
        "plt.plot(classify_train.history['val_accuracy'], color='b')\n",
        "plt.title('Model Accuracy')\n",
        "plt.ylabel('Accuracy')\n",
        "plt.xlabel('Epochs')\n",
        "plt.legend(['train', 'val'])\n",
        "plt.show()"
      ],
      "metadata": {
        "colab": {
          "base_uri": "https://localhost:8080/",
          "height": 350
        },
        "id": "ge52_WbPPwpJ",
        "outputId": "fea150d4-d6c3-4441-b560-a0a39b915779"
      },
      "execution_count": null,
      "outputs": [
        {
          "output_type": "display_data",
          "data": {
            "image/png": "[encoded data removed]",
            "text/plain": [
              "<Figure size 864x360 with 1 Axes>"
            ]
          },
          "metadata": {
            "needs_background": "light"
          }
        }
      ]
    },
    {
      "cell_type": "code",
      "source": [
        "#Plot the loss history\n",
        "plt.figure(figsize=(12, 5))\n",
        "plt.plot(classify_train.history['loss'], color='r')\n",
        "plt.plot(classify_train.history['val_loss'], color='b')\n",
        "plt.title('Model Loss')\n",
        "plt.ylabel('Loss')\n",
        "plt.xlabel('Epochs')\n",
        "plt.legend(['train', 'val'])\n",
        "plt.show()"
      ],
      "metadata": {
        "colab": {
          "base_uri": "https://localhost:8080/",
          "height": 350
        },
        "id": "JfhRR65fQoel",
        "outputId": "2f385936-78c3-4ba9-d947-d7c5c59a3c18"
      },
      "execution_count": null,
      "outputs": [
        {
          "output_type": "display_data",
          "data": {
            "image/png": "[encoded data removed]",
            "text/plain": [
              "<Figure size 864x360 with 1 Axes>"
            ]
          },
          "metadata": {
            "needs_background": "light"
          }
        }
      ]
    },
    {
      "cell_type": "code",
      "source": [
        "# Calculating test accuracy\n",
        "scores = full_model.evaluate(x_test, y_test)\n",
        "print(f\"Test Accuracy: {scores[1]*100}\")"
      ],
      "metadata": {
        "colab": {
          "base_uri": "https://localhost:8080/"
        },
        "id": "fEC6gzqORLLu",
        "outputId": "668058df-cd91-4307-fc7d-497f1fc4195b"
      },
      "execution_count": null,
      "outputs": [
        {
          "output_type": "stream",
          "name": "stdout",
          "text": [
            "7/7 [==============================] - 13s 2s/step - loss: 65.2744 - accuracy: 0.2661\n",
            "Test Accuracy: 26.605504751205444\n"
          ]
        }
      ]
    },
    {
      "cell_type": "code",
      "source": [
        "# Storing predictions\n",
        "y_pred = full_model.predict(x_test)"
      ],
      "metadata": {
        "id": "A0QpSHI5RvfV"
      },
      "execution_count": null,
      "outputs": []
    },
    {
      "cell_type": "code",
      "source": [
        "# Plotting image to compare\n",
        "img = array_to_img(x_test[6])\n",
        "img"
      ],
      "metadata": {
        "colab": {
          "base_uri": "https://localhost:8080/",
          "height": 145
        },
        "id": "Qwfdf1Q6R67b",
        "outputId": "5d3e869c-6a7a-42dd-d0fa-2ea6f7638164"
      },
      "execution_count": null,
      "outputs": [
        {
          "output_type": "execute_result",
          "data": {
            "image/png": "[encoded data removed]",
            "text/plain": [
              "<PIL.Image.Image image mode=RGB size=128x128 at 0x7F9C6BB19450>"
            ]
          },
          "metadata": {},
          "execution_count": 69
        }
      ]
    },
    {
      "cell_type": "code",
      "source": [
        "# Finding max value from predition list and comaparing original value vs predicted\n",
        "labels = lb.classes_\n",
        "print(labels)\n",
        "print(\"Originally : \",labels[np.argmax(y_test[6])])\n",
        "print(\"Predicted : \",labels[np.argmax(y_pred[6])])"
      ],
      "metadata": {
        "colab": {
          "base_uri": "https://localhost:8080/"
        },
        "id": "mJhOZFzmSF6H",
        "outputId": "d24455cd-5d2a-4bb2-acf4-6e32c140504f"
      },
      "execution_count": null,
      "outputs": [
        {
          "output_type": "stream",
          "name": "stdout",
          "text": [
            "['Blight' 'Common_Rust' 'Gray_Leaf_Spot' 'Healthy']\n",
            "Originally :  Healthy\n",
            "Predicted :  Healthy\n"
          ]
        }
      ]
    },
    {
      "cell_type": "code",
      "source": [
        "img = array_to_img(x_test[2])\n",
        "img"
      ],
      "metadata": {
        "colab": {
          "base_uri": "https://localhost:8080/",
          "height": 145
        },
        "id": "qTR65ONOaoIq",
        "outputId": "e8974016-be42-4915-f6dc-07bf09b2766c"
      },
      "execution_count": null,
      "outputs": [
        {
          "output_type": "execute_result",
          "data": {
            "image/png": "[encoded data removed]",
            "text/plain": [
              "<PIL.Image.Image image mode=RGB size=128x128 at 0x7F9C6BB2C050>"
            ]
          },
          "metadata": {},
          "execution_count": 71
        }
      ]
    },
    {
      "cell_type": "code",
      "source": [
        "labels = lb.classes_\n",
        "print(labels)\n",
        "print(\"Originally : \",labels[np.argmax(y_test[2])])\n",
        "print(\"Predicted : \",labels[np.argmax(y_pred[2])])"
      ],
      "metadata": {
        "colab": {
          "base_uri": "https://localhost:8080/"
        },
        "id": "ytPZzDOSakTB",
        "outputId": "73616288-c34d-4401-9846-a6b9b0ccb316"
      },
      "execution_count": null,
      "outputs": [
        {
          "output_type": "stream",
          "name": "stdout",
          "text": [
            "['Blight' 'Common_Rust' 'Gray_Leaf_Spot' 'Healthy']\n",
            "Originally :  Common_Rust\n",
            "Predicted :  Healthy\n"
          ]
        }
      ]
    },
    {
      "cell_type": "markdown",
      "source": [
        "Although we tried to resize the images to enhace training process, it is obvious that it decreases the accuracy extremely. \n",
        "\n",
        "Also, this model can be mainly accurate for the \"Healthy\" category. because in these sort of images we do not have many details. \n",
        "\n",
        "As I tried different values for different elements, I guess the best performence of this model would be achieved by (256, 256, 3) image shape with more than 200 epochs. "
      ],
      "metadata": {
        "id": "Ly7miWY1S5Ni"
      }
    },
    {
      "cell_type": "markdown",
      "source": [
        "# **THANKS FOR YOUR TIME AND CONSIDERATION**"
      ],
      "metadata": {
        "id": "nXf3QqJjT_H4"
      }
    }
  ]
}